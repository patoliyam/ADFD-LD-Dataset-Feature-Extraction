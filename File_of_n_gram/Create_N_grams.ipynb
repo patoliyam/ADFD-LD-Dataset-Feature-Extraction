{
 "cells": [
  {
   "cell_type": "code",
   "execution_count": 7,
   "metadata": {
    "collapsed": true
   },
   "outputs": [],
   "source": [
    "import os\n",
    "\n",
    "def get_filenames(directory):\n",
    "    \"\"\"\n",
    "    This function will generate the file names in a directory \n",
    "    tree by walking the tree either top-down or bottom-up. For each \n",
    "    directory in the tree rooted at directory top (including top itself), \n",
    "    it yields a 3-tuple (dirpath, dirnames, filenames).\n",
    "    \"\"\"\n",
    "    file_catalog = {}\n",
    "    # Walk the tree.\n",
    "    for root, directories, files in os.walk(directory):\n",
    "        text_file_names = [f for f in files if f.endswith(\".txt\")]\n",
    "        file_catalog[root]=text_file_names\n",
    "    return file_catalog  # Self-explanatory.\n",
    "# Run the above function and store its results in a variable.   "
   ]
  },
  {
   "cell_type": "code",
   "execution_count": 8,
   "metadata": {
    "collapsed": false
   },
   "outputs": [],
   "source": [
    "def create_gram(list1 , n):\n",
    "    m=len(list1)\n",
    "    list2=[]\n",
    "    for i in range(m-n+1):\n",
    "        y=0\n",
    "        for j in range(n):\n",
    "            x=(1000**(n-j-1))*list1[i+j]\n",
    "            y=y+x\n",
    "        list2.append(y)\n",
    "    return list2"
   ]
  },
  {
   "cell_type": "code",
   "execution_count": 9,
   "metadata": {
    "collapsed": true
   },
   "outputs": [],
   "source": [
    "def countingSort(arr, exp1, n):\n",
    "    output = []\n",
    "    bucket=[[],[],[],[],[],[],[],[],[],[]]\n",
    "    count = [0] * (10)\n",
    "    for i in range(n):\n",
    "        index = (arr[i]//exp1)%10\n",
    "        bucket[int(index)].append(arr[i])\n",
    "        \n",
    "    for i in range(10):\n",
    "        lenth=len(bucket[i])\n",
    "        for j in range(lenth):\n",
    "            output.append(bucket[i][j])\n",
    "    for i in range(n):\n",
    "        arr[i] = output[i]"
   ]
  },
  {
   "cell_type": "code",
   "execution_count": 10,
   "metadata": {
    "collapsed": true
   },
   "outputs": [],
   "source": [
    "def radixSort(arr):\n",
    "    max1 = max(arr)\n",
    "    exp = 1\n",
    "    n = len(arr)\n",
    "    while max1//exp > 0:\n",
    "        countingSort(arr,exp,n)\n",
    "        exp *= 10"
   ]
  },
  {
   "cell_type": "code",
   "execution_count": 11,
   "metadata": {
    "collapsed": false
   },
   "outputs": [
    {
     "name": "stdout",
     "output_type": "stream",
     "text": [
      "Enter n gram:7\n"
     ]
    }
   ],
   "source": [
    "file_got = get_filenames(r'C:\\Users\\Saket Agrawal\\Desktop\\Concatenated_files')\n",
    "n=int(input(\"Enter n gram:\"))"
   ]
  },
  {
   "cell_type": "code",
   "execution_count": 12,
   "metadata": {
    "collapsed": false
   },
   "outputs": [
    {
     "name": "stdout",
     "output_type": "stream",
     "text": [
      "Adduser_data.txt\n",
      "Adduser_gram_data.txt\n",
      "Hydra_FTP_data.txt\n",
      "Hydra_FTP_gram_data.txt\n",
      "Hydra_SSH_data.txt\n",
      "Hydra_SSH_gram_data.txt\n",
      "Java_Meterpreter_data.txt\n",
      "Java_Meterpreter_gram_data.txt\n",
      "Java_Meterpreter_data.txt\n",
      "Meterpreter_data.txt\n",
      "Meterpreter_gram_data.txt\n",
      "Web_Shell_data.txt\n",
      "Web_Shell_gram_data.txt\n",
      "Normal_data.txt\n",
      "Normal_gram_data.txt\n"
     ]
    }
   ],
   "source": [
    "import re\n",
    "from sys import argv \n",
    "attacks = ['Adduser', 'Hydra_FTP', 'Hydra_SSH', 'Java_Meterpreter', 'Meterpreter', 'Web_Shell' , 'Normal']\n",
    "for attack in attacks :\n",
    "    filename=attack+\"_gram_data.txt\"\n",
    "    concat = open(filename, 'a+')\n",
    "    concat.write(\"\")\n",
    "    regex = (attack+'_data.txt')\n",
    "    dir=r'C:\\Users\\Saket Agrawal\\Desktop\\Concatenated_files'\n",
    "    for file in file_got[dir] :\n",
    "        if re.search(regex, file):\n",
    "            print(file)\n",
    "            buffer= open(dir + \"\\\\\" + file,'r')\n",
    "            list1=[]\n",
    "            for val in buffer.read().split():\n",
    "                list1.append(int(val))\n",
    "            buffer.close()\n",
    "            list_final=create_gram(list1,n)\n",
    "            radixSort(list_final)\n",
    "            for item in list_final:\n",
    "                concat.write(\"%s\\n\" % item)\n",
    "    print(filename)\n",
    "    concat.close()"
   ]
  }
 ],
 "metadata": {
  "anaconda-cloud": {},
  "kernelspec": {
   "display_name": "Python [default]",
   "language": "python",
   "name": "python3"
  },
  "language_info": {
   "codemirror_mode": {
    "name": "ipython",
    "version": 3
   },
   "file_extension": ".py",
   "mimetype": "text/x-python",
   "name": "python",
   "nbconvert_exporter": "python",
   "pygments_lexer": "ipython3",
   "version": "3.5.2"
  }
 },
 "nbformat": 4,
 "nbformat_minor": 1
}

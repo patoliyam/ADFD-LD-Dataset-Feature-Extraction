{
 "cells": [
  {
   "cell_type": "code",
   "execution_count": 1,
   "metadata": {
    "collapsed": true
   },
   "outputs": [],
   "source": [
    "import os\n",
    "\n",
    "def get_filenames(directory):\n",
    "    \"\"\"\n",
    "    This function will generate the file names in a directory \n",
    "    tree by walking the tree either top-down or bottom-up. For each \n",
    "    directory in the tree rooted at directory top (including top itself), \n",
    "    it yields a 3-tuple (dirpath, dirnames, filenames).\n",
    "    \"\"\"\n",
    "    file_catalog = {}\n",
    "    \n",
    "    for root, directories, files in os.walk(directory):\n",
    "        text_file_names = [f for f in files if f.endswith(\".txt\")]\n",
    "        file_catalog[root]=text_file_names\n",
    "    return file_catalog  # Self-explanatory."
   ]
  },
  {
   "cell_type": "code",
   "execution_count": 2,
   "metadata": {
    "collapsed": false
   },
   "outputs": [],
   "source": [
    "def find_frequency(list1):\n",
    "    max1 = max(list1)\n",
    "    print(max1)\n",
    "    n=len(list1)\n",
    "    exp = 1\n",
    "    x=0\n",
    "    list2=[]\n",
    "    while int(max1/exp) > 0:\n",
    "        x=x+1\n",
    "        exp *= 10\n",
    "    if(x == 9):\n",
    "        a=list1[0]\n",
    "        m=1\n",
    "        for i in range(1,n):\n",
    "            if(list1[i]==a):\n",
    "                m=m+1\n",
    "            else:\n",
    "                list2.append(m*1000000000+a)\n",
    "                a=list1[i]\n",
    "                m=1\n",
    "    if(x == 15):\n",
    "        a=list1[0]\n",
    "        m=1\n",
    "        for i in range(1,n):\n",
    "            if(list1[i]==a):\n",
    "                m=m+1\n",
    "            else:\n",
    "                list2.append(m*1000000000000000+a)\n",
    "                a=list1[i]\n",
    "                m=1\n",
    "    if(x == 21):\n",
    "        a=list1[0]\n",
    "        m=1\n",
    "        for i in range(1,n):\n",
    "            if(list1[i]==a):\n",
    "                m=m+1\n",
    "            else:\n",
    "                list2.append(m*1000000000000000000000+a)\n",
    "                a=list1[i]\n",
    "                m=1\n",
    "    return list2"
   ]
  },
  {
   "cell_type": "code",
   "execution_count": 3,
   "metadata": {
    "collapsed": true
   },
   "outputs": [],
   "source": [
    "def countingSort(arr, exp1, n):\n",
    "    output = []\n",
    "    bucket=[[],[],[],[],[],[],[],[],[],[]]\n",
    "    count = [0] * (10)\n",
    "    for i in range(n):\n",
    "        index = (arr[i]//exp1)%10\n",
    "        bucket[int(index)].append(arr[i])\n",
    "        \n",
    "    for i in range(10):\n",
    "        lenth=len(bucket[i])\n",
    "        for j in range(lenth):\n",
    "            output.append(bucket[i][j])\n",
    "    for i in range(n):\n",
    "        arr[i] = output[i]\n"
   ]
  },
  {
   "cell_type": "code",
   "execution_count": 4,
   "metadata": {
    "collapsed": true
   },
   "outputs": [],
   "source": [
    "def radixSort(arr):\n",
    "    max1 = max(arr)\n",
    "    exp = 1\n",
    "    n = len(arr)\n",
    "    while max1//exp > 0:\n",
    "        countingSort(arr,exp,n)\n",
    "        exp *= 10"
   ]
  },
  {
   "cell_type": "code",
   "execution_count": 5,
   "metadata": {
    "collapsed": true
   },
   "outputs": [],
   "source": [
    "file_got = get_filenames(r'C:\\Users\\Saket Agrawal\\Desktop\\File_of_n_gram')"
   ]
  },
  {
   "cell_type": "code",
   "execution_count": 6,
   "metadata": {
    "collapsed": false
   },
   "outputs": [
    {
     "name": "stdout",
     "output_type": "stream",
     "text": [
      "C:\\Users\\Saket Agrawal\\Desktop\\File_of_n_gram\\5_gram\n",
      "sss\n",
      "Adduser_gram_data.txt\n",
      "frequency_data_5_gram_Adduser_gram_data.txt\n",
      "340265265168003\n",
      "Hydra_FTP_gram_data.txt\n",
      "frequency_data_5_gram_Hydra_FTP_gram_data.txt\n",
      "340340168003168\n",
      "Hydra_SSH_gram_data.txt\n",
      "frequency_data_5_gram_Hydra_SSH_gram_data.txt\n",
      "340340168043265\n",
      "Java_Meterpreter_gram_data.txt\n",
      "frequency_data_5_gram_Java_Meterpreter_gram_data.txt\n",
      "340340003265043\n",
      "Meterpreter_gram_data.txt\n",
      "frequency_data_5_gram_Meterpreter_gram_data.txt\n",
      "340340003265043\n",
      "Normal_gram_data.txt\n",
      "frequency_data_5_gram_Normal_gram_data.txt\n",
      "340340340340340\n",
      "Web_Shell_gram_data.txt\n",
      "frequency_data_5_gram_Web_Shell_gram_data.txt\n",
      "340340265168168\n",
      "C:\\Users\\Saket Agrawal\\Desktop\\File_of_n_gram\\3_gram\n",
      "sss\n",
      "Adduser_gram_data.txt\n",
      "frequency_data_3_gram_Adduser_gram_data.txt\n",
      "340265265\n",
      "Hydra_FTP_gram_data.txt\n",
      "frequency_data_3_gram_Hydra_FTP_gram_data.txt\n",
      "340340168\n",
      "Hydra_SSH_gram_data.txt\n",
      "frequency_data_3_gram_Hydra_SSH_gram_data.txt\n",
      "340340168\n",
      "Java_Meterpreter_gram_data.txt\n",
      "frequency_data_3_gram_Java_Meterpreter_gram_data.txt\n",
      "340340003\n",
      "Meterpreter_gram_data.txt\n",
      "frequency_data_3_gram_Meterpreter_gram_data.txt\n",
      "340340003\n",
      "Normal_gram_data.txt\n",
      "frequency_data_3_gram_Normal_gram_data.txt\n",
      "340340340\n",
      "Web_Shell_gram_data.txt\n",
      "frequency_data_3_gram_Web_Shell_gram_data.txt\n",
      "340340265\n",
      "C:\\Users\\Saket Agrawal\\Desktop\\File_of_n_gram\\7_gram\n",
      "sss\n",
      "Adduser_gram_data.txt\n",
      "frequency_data_7_gram_Adduser_gram_data.txt\n",
      "340265265168003043168\n",
      "Hydra_FTP_gram_data.txt\n",
      "frequency_data_7_gram_Hydra_FTP_gram_data.txt\n",
      "340340168003168043265\n",
      "Hydra_SSH_gram_data.txt\n",
      "frequency_data_7_gram_Hydra_SSH_gram_data.txt\n",
      "340340168043265168265\n",
      "Java_Meterpreter_gram_data.txt\n",
      "frequency_data_7_gram_Java_Meterpreter_gram_data.txt\n",
      "340340003265043265265\n",
      "Meterpreter_gram_data.txt\n",
      "frequency_data_7_gram_Meterpreter_gram_data.txt\n",
      "340340003265043265265\n",
      "Normal_gram_data.txt\n",
      "frequency_data_7_gram_Normal_gram_data.txt\n",
      "340340340340340340340\n",
      "Web_Shell_gram_data.txt\n",
      "frequency_data_7_gram_Web_Shell_gram_data.txt\n",
      "340340265168168003168\n"
     ]
    }
   ],
   "source": [
    "import re\n",
    "from sys import argv \n",
    "regex = ('[357]'+'_gram')\n",
    "for dir in file_got.keys() :\n",
    "    if re.search(regex, dir):\n",
    "        print(dir)\n",
    "        print('sss')\n",
    "        for file in file_got[dir] :\n",
    "                print(file)\n",
    "                if re.search('3_gram' , dir):\n",
    "                    filename='frequency_data_'+'3_gram'+'_'+file\n",
    "                if re.search('5_gram' , dir):\n",
    "                    filename='frequency_data_'+'5_gram'+'_'+file\n",
    "                if re.search('7_gram' , dir):\n",
    "                    filename='frequency_data_'+'7_gram'+'_'+file\n",
    "                print(filename)\n",
    "                concat = open(filename, 'a+')\n",
    "                buffer= open(dir+\"\\\\\"+file,'r')\n",
    "                list1=[]\n",
    "                for val in buffer.read().split():\n",
    "                    list1.append(int(val))\n",
    "                buffer.close()\n",
    "                list_final=find_frequency(list1)\n",
    "                radixSort(list_final)\n",
    "                length=len(list_final)\n",
    "                for i in range(length):\n",
    "                    concat.write(\"%s\\n\" % list_final[length-i-1])\n",
    "                concat.close()\n",
    "                "
   ]
  }
 ],
 "metadata": {
  "anaconda-cloud": {},
  "kernelspec": {
   "display_name": "Python [conda root]",
   "language": "python",
   "name": "conda-root-py"
  },
  "language_info": {
   "codemirror_mode": {
    "name": "ipython",
    "version": 3
   },
   "file_extension": ".py",
   "mimetype": "text/x-python",
   "name": "python",
   "nbconvert_exporter": "python",
   "pygments_lexer": "ipython3",
   "version": "3.5.2"
  }
 },
 "nbformat": 4,
 "nbformat_minor": 1
}
